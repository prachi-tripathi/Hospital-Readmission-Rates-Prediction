{
 "cells": [
  {
   "cell_type": "code",
   "execution_count": 199,
   "metadata": {},
   "outputs": [],
   "source": [
    "import pandas as pd\n",
    "import numpy as np\n",
    "import matplotlib.pyplot as plt\n",
    "pd.options.mode.chained_assignment = None"
   ]
  },
  {
   "cell_type": "code",
   "execution_count": 200,
   "metadata": {},
   "outputs": [],
   "source": [
    "df = pd.read_csv(\"Telecom_customer churn_Final.csv\")"
   ]
  },
  {
   "cell_type": "code",
   "execution_count": 201,
   "metadata": {},
   "outputs": [],
   "source": [
    "churn_df = df.iloc[:,70:101]"
   ]
  },
  {
   "cell_type": "code",
   "execution_count": 202,
   "metadata": {
    "scrolled": false
   },
   "outputs": [
    {
     "data": {
      "text/plain": [
       "prizm_social_one     7388\n",
       "area                   40\n",
       "dualband                1\n",
       "refurb_new              1\n",
       "hnd_price             847\n",
       "phones                  1\n",
       "models                  1\n",
       "hnd_webcap          10189\n",
       "truck                1732\n",
       "rv                   1732\n",
       "ownrent             33706\n",
       "lor                 30190\n",
       "dwlltype            31909\n",
       "marital              1732\n",
       "adults              23019\n",
       "infobase            22079\n",
       "income              25436\n",
       "numbcars            49366\n",
       "HHstatin            37923\n",
       "dwllsize            38308\n",
       "forgntvl             1732\n",
       "ethnic               1732\n",
       "kid0_2               1732\n",
       "kid3_5               1732\n",
       "kid6_10              1732\n",
       "kid11_15             1732\n",
       "kid16_17             1732\n",
       "creditcd             1732\n",
       "eqpdays                 1\n",
       "Customer_ID             0\n",
       "dtype: int64"
      ]
     },
     "execution_count": 202,
     "metadata": {},
     "output_type": "execute_result"
    }
   ],
   "source": [
    "churn_df.isnull().sum()"
   ]
  },
  {
   "cell_type": "markdown",
   "metadata": {},
   "source": [
    "## I DONT THNIK CUSTOMER ID TO BE IMPUTED ANYHOW WE WILL REMOVE IT\n",
    "## SO I DIDNT IMPUTED"
   ]
  },
  {
   "cell_type": "code",
   "execution_count": 203,
   "metadata": {},
   "outputs": [
    {
     "data": {
      "text/plain": [
       "Index(['prizm_social_one', 'area', 'dualband', 'refurb_new', 'hnd_price',\n",
       "       'phones', 'models', 'hnd_webcap', 'truck', 'rv', 'ownrent', 'lor',\n",
       "       'dwlltype', 'marital', 'adults', 'infobase', 'income', 'numbcars',\n",
       "       'HHstatin', 'dwllsize', 'forgntvl', 'ethnic', 'kid0_2', 'kid3_5',\n",
       "       'kid6_10', 'kid11_15', 'kid16_17', 'creditcd', 'eqpdays',\n",
       "       'Customer_ID'],\n",
       "      dtype='object')"
      ]
     },
     "execution_count": 203,
     "metadata": {},
     "output_type": "execute_result"
    }
   ],
   "source": [
    "churn_df.columns\n"
   ]
  },
  {
   "cell_type": "code",
   "execution_count": 204,
   "metadata": {},
   "outputs": [
    {
     "data": {
      "text/plain": [
       "<matplotlib.axes._subplots.AxesSubplot at 0x205878c75f8>"
      ]
     },
     "execution_count": 204,
     "metadata": {},
     "output_type": "execute_result"
    },
    {
     "data": {
      "image/png": "[encoded data removed]",
      "text/plain": [
       "<Figure size 432x288 with 1 Axes>"
      ]
     },
     "metadata": {
      "needs_background": "light"
     },
     "output_type": "display_data"
    }
   ],
   "source": [
    "churn_df[['hnd_price','phones','models','lor','income','eqpdays']].boxplot()"
   ]
  },
  {
   "cell_type": "code",
   "execution_count": 205,
   "metadata": {},
   "outputs": [],
   "source": [
    "# Continous missing value for non outlier columns with mean\n",
    "\n",
    "NanVal_noOutliers = churn_df[['lor','income']]\n",
    "\n",
    "for col in NanVal_noOutliers:\n",
    "    NanVal_noOutliers[col].fillna(np.mean(NanVal_noOutliers[col]),inplace=True)\n",
    "   "
   ]
  },
  {
   "cell_type": "code",
   "execution_count": 206,
   "metadata": {},
   "outputs": [],
   "source": [
    "# Continous missing value for having outlier columns with median\n",
    "\n",
    "\n",
    "NanVal_outliers = churn_df[['hnd_price','phones','models','eqpdays']]\n",
    "\n",
    "for col in NanVal_outliers:\n",
    "            NanVal_outliers[col].fillna(NanVal_outliers[col].median(), inplace=True)\n",
    "\n"
   ]
  },
  {
   "cell_type": "code",
   "execution_count": 207,
   "metadata": {},
   "outputs": [
    {
     "name": "stdout",
     "output_type": "stream",
     "text": [
      "lor       0\n",
      "income    0\n",
      "dtype: int64\n",
      "hnd_price    0\n",
      "phones       0\n",
      "models       0\n",
      "eqpdays      0\n",
      "dtype: int64\n"
     ]
    }
   ],
   "source": [
    "print(NanVal_noOutliers.isnull().sum())\n",
    "print(NanVal_outliers.isnull().sum())"
   ]
  },
  {
   "cell_type": "code",
   "execution_count": 208,
   "metadata": {},
   "outputs": [],
   "source": [
    "# Categorical missing values \n",
    "\n",
    "categorical_NanVal = churn_df[['prizm_social_one','area','refurb_new','dualband','hnd_webcap','ownrent','dwlltype','marital','infobase','HHstatin','dwllsize','ethnic','kid0_2','kid3_5','kid6_10','kid11_15','kid16_17','creditcd']]\n",
    "\n",
    "for col in categorical_NanVal:\n",
    "        categorical_NanVal[col].fillna(categorical_NanVal[col].mode()[0], inplace=True)\n",
    "        \n",
    "\n"
   ]
  },
  {
   "cell_type": "code",
   "execution_count": 209,
   "metadata": {},
   "outputs": [
    {
     "data": {
      "text/plain": [
       "prizm_social_one    0\n",
       "area                0\n",
       "refurb_new          0\n",
       "dualband            0\n",
       "hnd_webcap          0\n",
       "ownrent             0\n",
       "dwlltype            0\n",
       "marital             0\n",
       "infobase            0\n",
       "HHstatin            0\n",
       "dwllsize            0\n",
       "ethnic              0\n",
       "kid0_2              0\n",
       "kid3_5              0\n",
       "kid6_10             0\n",
       "kid11_15            0\n",
       "kid16_17            0\n",
       "creditcd            0\n",
       "dtype: int64"
      ]
     },
     "execution_count": 209,
     "metadata": {},
     "output_type": "execute_result"
    }
   ],
   "source": [
    "categorical_NanVal.isnull().sum()"
   ]
  },
  {
   "cell_type": "code",
   "execution_count": 210,
   "metadata": {},
   "outputs": [],
   "source": [
    "# Number categorical Values\n",
    "\n",
    "No_categorical_NanVal = churn_df[['truck','rv','adults','numbcars','forgntvl']]\n",
    "\n",
    "for col in No_categorical_NanVal:\n",
    "      No_categorical_NanVal[col].fillna(No_categorical_NanVal[col].mode()[0], inplace=True)\n",
    "\n",
    "      \n"
   ]
  },
  {
   "cell_type": "code",
   "execution_count": 211,
   "metadata": {},
   "outputs": [
    {
     "data": {
      "text/plain": [
       "truck       0\n",
       "rv          0\n",
       "adults      0\n",
       "numbcars    0\n",
       "forgntvl    0\n",
       "dtype: int64"
      ]
     },
     "execution_count": 211,
     "metadata": {},
     "output_type": "execute_result"
    }
   ],
   "source": [
    "No_categorical_NanVal.isnull().sum()"
   ]
  },
  {
   "cell_type": "code",
   "execution_count": 212,
   "metadata": {},
   "outputs": [],
   "source": [
    "churn_df = pd.concat([NanVal_noOutliers, NanVal_outliers,categorical_NanVal,No_categorical_NanVal], axis=1)"
   ]
  },
  {
   "cell_type": "code",
   "execution_count": 213,
   "metadata": {},
   "outputs": [
    {
     "data": {
      "text/plain": [
       "(100000, 29)"
      ]
     },
     "execution_count": 213,
     "metadata": {},
     "output_type": "execute_result"
    }
   ],
   "source": [
    "churn_df.shape"
   ]
  },
  {
   "cell_type": "code",
   "execution_count": 214,
   "metadata": {},
   "outputs": [
    {
     "data": {
      "text/plain": [
       "lor                 0\n",
       "income              0\n",
       "hnd_price           0\n",
       "phones              0\n",
       "models              0\n",
       "eqpdays             0\n",
       "prizm_social_one    0\n",
       "area                0\n",
       "refurb_new          0\n",
       "dualband            0\n",
       "hnd_webcap          0\n",
       "ownrent             0\n",
       "dwlltype            0\n",
       "marital             0\n",
       "infobase            0\n",
       "HHstatin            0\n",
       "dwllsize            0\n",
       "ethnic              0\n",
       "kid0_2              0\n",
       "kid3_5              0\n",
       "kid6_10             0\n",
       "kid11_15            0\n",
       "kid16_17            0\n",
       "creditcd            0\n",
       "truck               0\n",
       "rv                  0\n",
       "adults              0\n",
       "numbcars            0\n",
       "forgntvl            0\n",
       "dtype: int64"
      ]
     },
     "execution_count": 214,
     "metadata": {},
     "output_type": "execute_result"
    }
   ],
   "source": [
    "churn_df.isnull().sum()"
   ]
  },
  {
   "cell_type": "code",
   "execution_count": 215,
   "metadata": {},
   "outputs": [
    {
     "data": {
      "text/plain": [
       "Index(['lor', 'income', 'hnd_price', 'phones', 'models', 'eqpdays',\n",
       "       'prizm_social_one', 'area', 'refurb_new', 'dualband', 'hnd_webcap',\n",
       "       'ownrent', 'dwlltype', 'marital', 'infobase', 'HHstatin', 'dwllsize',\n",
       "       'ethnic', 'kid0_2', 'kid3_5', 'kid6_10', 'kid11_15', 'kid16_17',\n",
       "       'creditcd', 'truck', 'rv', 'adults', 'numbcars', 'forgntvl'],\n",
       "      dtype='object')"
      ]
     },
     "execution_count": 215,
     "metadata": {},
     "output_type": "execute_result"
    }
   ],
   "source": [
    "churn_df.columns"
   ]
  }
 ],
 "metadata": {
  "kernelspec": {
   "display_name": "Python 3",
   "language": "python",
   "name": "python3"
  },
  "language_info": {
   "codemirror_mode": {
    "name": "ipython",
    "version": 3
   },
   "file_extension": ".py",
   "mimetype": "text/x-python",
   "name": "python",
   "nbconvert_exporter": "python",
   "pygments_lexer": "ipython3",
   "version": "3.7.3"
  }
 },
 "nbformat": 4,
 "nbformat_minor": 2
}
